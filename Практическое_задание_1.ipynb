{
  "nbformat": 4,
  "nbformat_minor": 0,
  "metadata": {
    "colab": {
      "name": "Практическое задание 1",
      "provenance": [],
      "collapsed_sections": []
    },
    "kernelspec": {
      "name": "python3",
      "display_name": "Python 3"
    }
  },
  "cells": [
    {
      "cell_type": "markdown",
      "metadata": {
        "id": "SvO7XzEb4vGK"
      },
      "source": [
        "Брикотнин Максим Александрович КИ19-24б"
      ]
    },
    {
      "cell_type": "code",
      "metadata": {
        "colab": {
          "base_uri": "https://localhost:8080/"
        },
        "id": "ajc0dqyB4sR0",
        "outputId": "8cd8f95f-5d4e-4a92-b4e5-ccab605b54bf"
      },
      "source": [
        "print('Hello world')"
      ],
      "execution_count": null,
      "outputs": [
        {
          "output_type": "stream",
          "text": [
            "Hello world\n"
          ],
          "name": "stdout"
        }
      ]
    }
  ]
}